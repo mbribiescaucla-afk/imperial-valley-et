{
  "nbformat": 4,
  "nbformat_minor": 0,
  "metadata": {
    "colab": {
      "provenance": [],
      "authorship_tag": "ABX9TyNNPgNFRhIt75ldqo701s17",
      "include_colab_link": true
    },
    "kernelspec": {
      "name": "python3",
      "display_name": "Python 3"
    },
    "language_info": {
      "name": "python"
    }
  },
  "cells": [
    {
      "cell_type": "markdown",
      "metadata": {
        "id": "view-in-github",
        "colab_type": "text"
      },
      "source": [
        "<a href=\"https://colab.research.google.com/github/mbribiescaucla-afk/imperial-valley-et/blob/main/ET_AA_O_DifModels.ipynb\" target=\"_parent\"><img src=\"https://colab.research.google.com/assets/colab-badge.svg\" alt=\"Open In Colab\"/></a>"
      ]
    },
    {
      "cell_type": "code",
      "execution_count": null,
      "metadata": {
        "colab": {
          "base_uri": "https://localhost:8080/"
        },
        "id": "z8634FUUybv6",
        "outputId": "3076c1c7-8ef8-4967-c322-b5f1afab2778"
      },
      "outputs": [
        {
          "output_type": "stream",
          "name": "stdout",
          "text": [
            "Mounted at /content/drive\n",
            "Total de polígonos seleccionados: 1937\n"
          ]
        }
      ],
      "source": [
        "# --- 1. INSTALACIÓN Y AUTENTICACIÓN ---\n",
        "!pip install -q earthengine-api geopandas\n",
        "\n",
        "import geopandas as gpd\n",
        "import pandas as pd\n",
        "import ee\n",
        "import json\n",
        "import os\n",
        "import time\n",
        "from google.colab import drive\n",
        "\n",
        "drive.mount('/content/drive')\n",
        "ee.Authenticate()\n",
        "ee.Initialize(project='ee-mbribiescaucla')\n",
        "\n",
        "# --- 2. CARGAR SHAPEFILE ---\n",
        "shapefile_path = '/content/drive/MyDrive/Shapefiles/CSB_IV_08_15.shp'\n",
        "gdf = gpd.read_file(shapefile_path)\n",
        "\n",
        "for y in range(2008, 2016):\n",
        "    gdf[f'CDL{y}'] = pd.to_numeric(gdf[f'CDL{y}'], errors='coerce')\n",
        "\n",
        "# --- 3. IDENTIFICAR PATRONES DE CAMBIO DE ALFALFA A OTROS CULTIVOS ---\n",
        "pattern_results = []\n",
        "\n",
        "for n_initial36 in range(7, 0, -1):  # Años iniciales con alfalfa\n",
        "    n_final_non36 = 8 - n_initial36  # Años finales ≠ alfalfa\n",
        "    initial_years = [f'CDL{2008 + i}' for i in range(n_initial36)]\n",
        "    final_years = [f'CDL{2008 + i}' for i in range(n_initial36, 8)]\n",
        "    pattern_label = 'A' * n_initial36 + 'O' * n_final_non36\n",
        "    required_cols = initial_years + final_years\n",
        "    gdf_clean = gdf.dropna(subset=required_cols)\n",
        "\n",
        "    def match_pattern(row):\n",
        "        if any(row[y] != 36 for y in initial_years): return False\n",
        "        if any(row[y] == 36 for y in final_years): return False\n",
        "        return True\n",
        "\n",
        "    matched = gdf_clean[gdf_clean.apply(match_pattern, axis=1)].copy()\n",
        "    matched['pattern'] = pattern_label\n",
        "    pattern_results.append(matched)\n",
        "\n",
        "# Concatenar resultados\n",
        "gdf_all = pd.concat(pattern_results)\n",
        "print(\"Total de polígonos seleccionados:\", len(gdf_all))\n"
      ]
    },
    {
      "cell_type": "code",
      "source": [
        "# --- 4. EXPORTAR GEOJSON A EE ---\n",
        "gdf_all = gdf_all.to_crs(\"EPSG:4326\")\n",
        "geojson_path = '/content/all_patterns_from_alfalfa.json'\n",
        "if os.path.exists(geojson_path): os.remove(geojson_path)\n",
        "gdf_all.to_file(geojson_path, driver='GeoJSON')\n",
        "\n",
        "with open(geojson_path) as f:\n",
        "    geojson_data = json.load(f)\n",
        "\n",
        "features = [ee.Feature(ee.Geometry(f['geometry']), f['properties']) for f in geojson_data['features']]\n",
        "fc = ee.FeatureCollection(features)\n",
        "print(\"Polígonos cargados en EE:\", fc.size().getInfo())\n"
      ],
      "metadata": {
        "colab": {
          "base_uri": "https://localhost:8080/"
        },
        "id": "3fThTLVUzAHe",
        "outputId": "f687a613-dd4b-4615-bd7c-48b85050f098"
      },
      "execution_count": null,
      "outputs": [
        {
          "output_type": "stream",
          "name": "stdout",
          "text": [
            "Polígonos cargados en EE: 1937\n"
          ]
        }
      ]
    },
    {
      "cell_type": "code",
      "source": [
        "# --- 5. CALCULAR ET DIARIA PROMEDIO PARA ENSEMBLE, DISALEXI Y EEMETRIC ---\n",
        "results_list = []\n",
        "\n",
        "modelos = ['ensemble', 'disalexi', 'eemetric']\n",
        "colecciones = {\n",
        "    'ensemble': ('OpenET/ENSEMBLE/CONUS/GRIDMET/MONTHLY/v2_0', 'et_ensemble_sam'),\n",
        "    'disalexi': ('OpenET/DISALEXI/CONUS/GRIDMET/MONTHLY/v2_0', 'et'),\n",
        "    'eemetric': ('OpenET/EEMETRIC/CONUS/GRIDMET/MONTHLY/v2_0', 'et')\n",
        "}\n",
        "\n",
        "for year in range(2008, 2016):\n",
        "    print(f\"🔄 Año {year}...\")\n",
        "\n",
        "    start = ee.Date.fromYMD(year, 1, 1)\n",
        "    end = ee.Date.fromYMD(year, 12, 31)\n",
        "\n",
        "    for model in modelos:\n",
        "        print(f\"  ➤ Modelo: {model.upper()}\")\n",
        "        collection_id, band_name = colecciones[model]\n",
        "        col = ee.ImageCollection(collection_id).filterDate(start, end)\n",
        "        image = col.select(band_name).sum()\n",
        "\n",
        "        reduced = image.reduceRegions(\n",
        "            collection=fc,\n",
        "            reducer=ee.Reducer.mean(),\n",
        "            scale=30\n",
        "        ).map(lambda f: f.set('year', year)\n",
        "                      .set('model', model.upper())\n",
        "                      .set('et_mm_day', ee.Number(f.get('mean')).divide(365)))\n",
        "\n",
        "        results_list.append(reduced)\n",
        "\n",
        "all_results = ee.FeatureCollection(results_list).flatten()\n"
      ],
      "metadata": {
        "colab": {
          "base_uri": "https://localhost:8080/"
        },
        "id": "slGPmW0mzAsd",
        "outputId": "951feb6e-25e1-4ceb-a244-ab0e52214ba9"
      },
      "execution_count": null,
      "outputs": [
        {
          "output_type": "stream",
          "name": "stdout",
          "text": [
            "🔄 Año 2008...\n",
            "  ➤ Modelo: ENSEMBLE\n",
            "  ➤ Modelo: DISALEXI\n",
            "  ➤ Modelo: EEMETRIC\n",
            "🔄 Año 2009...\n",
            "  ➤ Modelo: ENSEMBLE\n",
            "  ➤ Modelo: DISALEXI\n",
            "  ➤ Modelo: EEMETRIC\n",
            "🔄 Año 2010...\n",
            "  ➤ Modelo: ENSEMBLE\n",
            "  ➤ Modelo: DISALEXI\n",
            "  ➤ Modelo: EEMETRIC\n",
            "🔄 Año 2011...\n",
            "  ➤ Modelo: ENSEMBLE\n",
            "  ➤ Modelo: DISALEXI\n",
            "  ➤ Modelo: EEMETRIC\n",
            "🔄 Año 2012...\n",
            "  ➤ Modelo: ENSEMBLE\n",
            "  ➤ Modelo: DISALEXI\n",
            "  ➤ Modelo: EEMETRIC\n",
            "🔄 Año 2013...\n",
            "  ➤ Modelo: ENSEMBLE\n",
            "  ➤ Modelo: DISALEXI\n",
            "  ➤ Modelo: EEMETRIC\n",
            "🔄 Año 2014...\n",
            "  ➤ Modelo: ENSEMBLE\n",
            "  ➤ Modelo: DISALEXI\n",
            "  ➤ Modelo: EEMETRIC\n",
            "🔄 Año 2015...\n",
            "  ➤ Modelo: ENSEMBLE\n",
            "  ➤ Modelo: DISALEXI\n",
            "  ➤ Modelo: EEMETRIC\n"
          ]
        }
      ]
    },
    {
      "cell_type": "code",
      "source": [
        "# --- 6. EXPORTAR A DRIVE ---\n",
        "export_desc = 'ET_daily_Ensemble_DisAlexi_eeMETRIC_fromAlfalfa_2008_2015'\n",
        "task = ee.batch.Export.table.toDrive(\n",
        "    collection=all_results,\n",
        "    description=export_desc,\n",
        "    folder='Colab_ET',\n",
        "    fileFormat='CSV'\n",
        ")\n",
        "task.start()\n",
        "\n",
        "while task.active():\n",
        "    print(\"Esperando exportación...\")\n",
        "    time.sleep(10)\n",
        "\n",
        "print(\"✅ Exportación completada:\", task.status())\n"
      ],
      "metadata": {
        "colab": {
          "base_uri": "https://localhost:8080/"
        },
        "id": "Ss7ZVkpezCkm",
        "outputId": "9bd7a913-2d91-4a79-f0a9-8fb99929b938"
      },
      "execution_count": null,
      "outputs": [
        {
          "output_type": "stream",
          "name": "stdout",
          "text": [
            "Esperando exportación...\n",
            "Esperando exportación...\n",
            "Esperando exportación...\n",
            "Esperando exportación...\n",
            "Esperando exportación...\n",
            "Esperando exportación...\n",
            "Esperando exportación...\n",
            "✅ Exportación completada: {'state': 'COMPLETED', 'description': 'ET_daily_Ensemble_DisAlexi_eeMETRIC_fromAlfalfa_2008_2015', 'priority': 100, 'creation_timestamp_ms': 1750799909660, 'update_timestamp_ms': 1750799980116, 'start_timestamp_ms': 1750799912874, 'task_type': 'EXPORT_FEATURES', 'destination_uris': ['https://drive.google.com/#folders/1gwo7ys-IUcg4JYI4ytcC5_hgJRJdymR3'], 'attempt': 1, 'batch_eecu_usage_seconds': 1005.046875, 'id': '7IEM465C46V7SZ5JJFHGYMY6', 'name': 'projects/ee-mbribiescaucla/operations/7IEM465C46V7SZ5JJFHGYMY6'}\n"
          ]
        }
      ]
    },
    {
      "cell_type": "code",
      "source": [
        "# --- 7. PROCESAR CSV Y EXPORTAR A EXCEL ---\n",
        "import pandas as pd\n",
        "\n",
        "csv_path = '/content/drive/MyDrive/Colab_ET/ET_daily_Ensemble_DisAlexi_eeMETRIC_fromAlfalfa_2008_2015.csv'\n",
        "df = pd.read_csv(csv_path)\n",
        "\n",
        "required_cols = ['CSBID', 'year', 'model', 'et_mm_day']\n",
        "for col in required_cols:\n",
        "    if col not in df.columns:\n",
        "        raise ValueError(f\"Falta la columna requerida: {col}\")\n",
        "\n",
        "df_pivot = df.pivot_table(\n",
        "    index='CSBID',\n",
        "    columns=['model', 'year'],\n",
        "    values='et_mm_day'\n",
        ").reset_index()\n",
        "\n",
        "df_pivot.columns = ['CSBID'] + [f\"ET {model} {year}\" for model, year in df_pivot.columns.tolist()[1:]]\n",
        "\n",
        "cdl_cols = [f'CDL{y}' for y in range(2008, 2016)]\n",
        "base_cols = ['CSBID', 'AreaRec', 'pattern'] + cdl_cols\n",
        "df_base = df[base_cols].drop_duplicates(subset='CSBID')\n",
        "\n",
        "df_final = pd.merge(df_base, df_pivot, on='CSBID', how='left')\n",
        "et_cols = sorted([col for col in df_final.columns if col.startswith('ET ')])\n",
        "df_final = df_final[['CSBID', 'AreaRec', 'pattern'] + cdl_cols + et_cols]\n",
        "\n",
        "output_excel = '/content/drive/MyDrive/Colab_ET/ET_Patrones_from_Alfalfa_2008_2015.xlsx'\n",
        "df_final.to_excel(output_excel, index=False)\n",
        "\n",
        "print(\"✅ Excel generado:\", output_excel)\n"
      ],
      "metadata": {
        "colab": {
          "base_uri": "https://localhost:8080/"
        },
        "id": "1eaUDEvXzD1V",
        "outputId": "b41ffd41-7130-497b-8a2b-dc9cab7d4e1a"
      },
      "execution_count": null,
      "outputs": [
        {
          "output_type": "stream",
          "name": "stdout",
          "text": [
            "✅ Excel generado: /content/drive/MyDrive/Colab_ET/ET_Patrones_from_Alfalfa_2008_2015.xlsx\n"
          ]
        }
      ]
    }
  ]
}