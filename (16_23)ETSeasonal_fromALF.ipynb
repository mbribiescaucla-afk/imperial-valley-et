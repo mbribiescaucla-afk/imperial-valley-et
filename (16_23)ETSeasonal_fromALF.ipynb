{
  "nbformat": 4,
  "nbformat_minor": 0,
  "metadata": {
    "colab": {
      "provenance": [],
      "authorship_tag": "ABX9TyNAK9RMNFpDxpQko8VaSnfn",
      "include_colab_link": true
    },
    "kernelspec": {
      "name": "python3",
      "display_name": "Python 3"
    },
    "language_info": {
      "name": "python"
    }
  },
  "cells": [
    {
      "cell_type": "markdown",
      "metadata": {
        "id": "view-in-github",
        "colab_type": "text"
      },
      "source": [
        "<a href=\"https://colab.research.google.com/github/mbribiescaucla-afk/imperial-valley-et/blob/main/(16_23)ETSeasonal_fromALF.ipynb\" target=\"_parent\"><img src=\"https://colab.research.google.com/assets/colab-badge.svg\" alt=\"Open In Colab\"/></a>"
      ]
    },
    {
      "cell_type": "code",
      "execution_count": 1,
      "metadata": {
        "colab": {
          "base_uri": "https://localhost:8080/"
        },
        "id": "w_tkLCfdGU4O",
        "outputId": "930811a5-48a5-43c2-cac7-71497e11be46"
      },
      "outputs": [
        {
          "output_type": "stream",
          "name": "stdout",
          "text": [
            "Mounted at /content/drive\n"
          ]
        }
      ],
      "source": [
        "# --- 1. INSTALACIÓN Y AUTENTICACIÓN ---\n",
        "!pip install -q earthengine-api geopandas\n",
        "\n",
        "import geopandas as gpd\n",
        "import pandas as pd\n",
        "import ee\n",
        "import json\n",
        "import os\n",
        "import time\n",
        "from google.colab import drive\n",
        "\n",
        "drive.mount('/content/drive')\n",
        "ee.Authenticate()\n",
        "ee.Initialize(project='ee-mbribiescaucla')"
      ]
    },
    {
      "cell_type": "code",
      "source": [
        "# --- 2. CARGAR SHAPEFILE ---\n",
        "shapefile_path = '/content/drive/MyDrive/Shapefiles/CSB_IV_16_23.shp'\n",
        "gdf = gpd.read_file(shapefile_path)\n",
        "\n",
        "for y in range(2016, 2024):\n",
        "    gdf[f'CDL{y}'] = pd.to_numeric(gdf[f'CDL{y}'], errors='coerce')\n",
        "\n",
        "# --- 3. IDENTIFICAR PATRONES DE CAMBIO DESDE ALFALFA ---\n",
        "pattern_results = []\n",
        "\n",
        "for n_initial36 in range(7, 0, -1):\n",
        "    n_finalO = 8 - n_initial36\n",
        "    initial36_years = [f'CDL{2016 + i}' for i in range(n_initial36)]\n",
        "    finalO_years = [f'CDL{2016 + i}' for i in range(n_initial36, 8)]\n",
        "    pattern_label = 'A' * n_initial36 + 'O' * n_finalO\n",
        "    required_cols = initial36_years + finalO_years\n",
        "    gdf_clean = gdf.dropna(subset=required_cols)\n",
        "\n",
        "    def match_pattern(row):\n",
        "        if any(row[y] != 36 for y in initial36_years): return False\n",
        "        if any(row[y] == 36 for y in finalO_years): return False\n",
        "        return True\n",
        "\n",
        "    matched = gdf_clean[gdf_clean.apply(match_pattern, axis=1)].copy()\n",
        "    matched['pattern'] = pattern_label\n",
        "    pattern_results.append(matched)\n",
        "\n",
        "# También agregamos el patrón AAAAAAAA (solo alfalfa)\n",
        "all_years = [f'CDL{2016 + i}' for i in range(8)]\n",
        "gdf_clean = gdf.dropna(subset=all_years)\n",
        "\n",
        "def match_all_A(row):\n",
        "    return all(row[y] == 36 for y in all_years)\n",
        "\n",
        "matched_all_A = gdf_clean[gdf_clean.apply(match_all_A, axis=1)].copy()\n",
        "matched_all_A['pattern'] = 'AAAAAAAA'\n",
        "pattern_results.append(matched_all_A)\n",
        "\n",
        "# Combinar todos los patrones encontrados\n",
        "gdf_all = pd.concat(pattern_results)\n",
        "print(\"Total de polígonos seleccionados:\", len(gdf_all))"
      ],
      "metadata": {
        "colab": {
          "base_uri": "https://localhost:8080/"
        },
        "id": "C8oVv2ffGgJj",
        "outputId": "2b8a2f1e-21ec-4af5-87dc-972beadc2b18"
      },
      "execution_count": 2,
      "outputs": [
        {
          "output_type": "stream",
          "name": "stdout",
          "text": [
            "Total de polígonos seleccionados: 2116\n"
          ]
        }
      ]
    },
    {
      "cell_type": "code",
      "source": [
        "# --- 4. EXPORTAR GEOJSON A EE ---\n",
        "gdf_all = gdf_all.to_crs(\"EPSG:4326\")\n",
        "geojson_path = '/content/all_patterns_from_alfalfa.json'\n",
        "if os.path.exists(geojson_path): os.remove(geojson_path)\n",
        "gdf_all.to_file(geojson_path, driver='GeoJSON')\n",
        "\n",
        "with open(geojson_path) as f:\n",
        "    geojson_data = json.load(f)\n",
        "\n",
        "features = [ee.Feature(ee.Geometry(f['geometry']), f['properties']) for f in geojson_data['features']]\n",
        "fc = ee.FeatureCollection(features)\n",
        "print(\"Polígonos cargados en EE:\", fc.size().getInfo())"
      ],
      "metadata": {
        "colab": {
          "base_uri": "https://localhost:8080/"
        },
        "id": "-EKWUuhnG0cu",
        "outputId": "e7d991a4-a035-45cc-955b-85fe9a75a068"
      },
      "execution_count": 3,
      "outputs": [
        {
          "output_type": "stream",
          "name": "stdout",
          "text": [
            "Polígonos cargados en EE: 2116\n"
          ]
        }
      ]
    },
    {
      "cell_type": "code",
      "source": [
        "# --- 5. CALCULAR ET DIARIA PROMEDIO POR ESTACIÓN ---\n",
        "results_list = []\n",
        "\n",
        "modelos = ['ensemble', 'disalexi', 'eemetric']\n",
        "colecciones = {\n",
        "    'ensemble': ('OpenET/ENSEMBLE/CONUS/GRIDMET/MONTHLY/v2_0', 'et_ensemble_sam'),\n",
        "    'disalexi': ('OpenET/DISALEXI/CONUS/GRIDMET/MONTHLY/v2_0', 'et'),\n",
        "    'eemetric': ('OpenET/EEMETRIC/CONUS/GRIDMET/MONTHLY/v2_0', 'et')\n",
        "}\n",
        "\n",
        "seasons = {\n",
        "    'Winter': {'months': [12, 1, 2], 'days': {12: 31, 1: 31, 2: 28}},\n",
        "    'Spring': {'months': [3, 4, 5], 'days': {3: 31, 4: 30, 5: 31}},\n",
        "    'Summer': {'months': [6, 7, 8], 'days': {6: 30, 7: 31, 8: 31}},\n",
        "    'Fall':   {'months': [9, 10, 11], 'days': {9: 30, 10: 31, 11: 30}}\n",
        "}\n",
        "\n",
        "for year in range(2016, 2024):\n",
        "    print(f\"🔄 Año {year}...\")\n",
        "\n",
        "    for season, info in seasons.items():\n",
        "        months = info['months']\n",
        "        total_days = sum(info['days'][m] for m in months)\n",
        "\n",
        "        if season == 'Winter':\n",
        "            start = ee.Date.fromYMD(year - 1, 12, 1)\n",
        "            end = ee.Date.fromYMD(year, 2, 28)\n",
        "        else:\n",
        "            start = ee.Date.fromYMD(year, months[0], 1)\n",
        "            end = ee.Date.fromYMD(year, months[-1], info['days'][months[-1]])\n",
        "\n",
        "        for model in modelos:\n",
        "            print(f\"  ➤ Modelo: {model.upper()} - Estación: {season}\")\n",
        "            collection_id, band_name = colecciones[model]\n",
        "            col = ee.ImageCollection(collection_id).filterDate(start, end)\n",
        "            image = col.select(band_name).sum()\n",
        "\n",
        "            reduced = image.reduceRegions(\n",
        "                collection=fc,\n",
        "                reducer=ee.Reducer.mean(),\n",
        "                scale=30\n",
        "            ).map(lambda f: f.set('year', year)\n",
        "                          .set('season', season)\n",
        "                          .set('model', model.upper())\n",
        "                          .set('et_mm_day', ee.Number(f.get('mean')).divide(total_days)))\n",
        "\n",
        "            results_list.append(reduced)\n",
        "\n",
        "all_results = ee.FeatureCollection(results_list).flatten()"
      ],
      "metadata": {
        "colab": {
          "base_uri": "https://localhost:8080/"
        },
        "id": "PHeh5an-G3XB",
        "outputId": "5242b040-5817-4b06-e278-2c46e67d097d"
      },
      "execution_count": 4,
      "outputs": [
        {
          "output_type": "stream",
          "name": "stdout",
          "text": [
            "🔄 Año 2016...\n",
            "  ➤ Modelo: ENSEMBLE - Estación: Winter\n",
            "  ➤ Modelo: DISALEXI - Estación: Winter\n",
            "  ➤ Modelo: EEMETRIC - Estación: Winter\n",
            "  ➤ Modelo: ENSEMBLE - Estación: Spring\n",
            "  ➤ Modelo: DISALEXI - Estación: Spring\n",
            "  ➤ Modelo: EEMETRIC - Estación: Spring\n",
            "  ➤ Modelo: ENSEMBLE - Estación: Summer\n",
            "  ➤ Modelo: DISALEXI - Estación: Summer\n",
            "  ➤ Modelo: EEMETRIC - Estación: Summer\n",
            "  ➤ Modelo: ENSEMBLE - Estación: Fall\n",
            "  ➤ Modelo: DISALEXI - Estación: Fall\n",
            "  ➤ Modelo: EEMETRIC - Estación: Fall\n",
            "🔄 Año 2017...\n",
            "  ➤ Modelo: ENSEMBLE - Estación: Winter\n",
            "  ➤ Modelo: DISALEXI - Estación: Winter\n",
            "  ➤ Modelo: EEMETRIC - Estación: Winter\n",
            "  ➤ Modelo: ENSEMBLE - Estación: Spring\n",
            "  ➤ Modelo: DISALEXI - Estación: Spring\n",
            "  ➤ Modelo: EEMETRIC - Estación: Spring\n",
            "  ➤ Modelo: ENSEMBLE - Estación: Summer\n",
            "  ➤ Modelo: DISALEXI - Estación: Summer\n",
            "  ➤ Modelo: EEMETRIC - Estación: Summer\n",
            "  ➤ Modelo: ENSEMBLE - Estación: Fall\n",
            "  ➤ Modelo: DISALEXI - Estación: Fall\n",
            "  ➤ Modelo: EEMETRIC - Estación: Fall\n",
            "🔄 Año 2018...\n",
            "  ➤ Modelo: ENSEMBLE - Estación: Winter\n",
            "  ➤ Modelo: DISALEXI - Estación: Winter\n",
            "  ➤ Modelo: EEMETRIC - Estación: Winter\n",
            "  ➤ Modelo: ENSEMBLE - Estación: Spring\n",
            "  ➤ Modelo: DISALEXI - Estación: Spring\n",
            "  ➤ Modelo: EEMETRIC - Estación: Spring\n",
            "  ➤ Modelo: ENSEMBLE - Estación: Summer\n",
            "  ➤ Modelo: DISALEXI - Estación: Summer\n",
            "  ➤ Modelo: EEMETRIC - Estación: Summer\n",
            "  ➤ Modelo: ENSEMBLE - Estación: Fall\n",
            "  ➤ Modelo: DISALEXI - Estación: Fall\n",
            "  ➤ Modelo: EEMETRIC - Estación: Fall\n",
            "🔄 Año 2019...\n",
            "  ➤ Modelo: ENSEMBLE - Estación: Winter\n",
            "  ➤ Modelo: DISALEXI - Estación: Winter\n",
            "  ➤ Modelo: EEMETRIC - Estación: Winter\n",
            "  ➤ Modelo: ENSEMBLE - Estación: Spring\n",
            "  ➤ Modelo: DISALEXI - Estación: Spring\n",
            "  ➤ Modelo: EEMETRIC - Estación: Spring\n",
            "  ➤ Modelo: ENSEMBLE - Estación: Summer\n",
            "  ➤ Modelo: DISALEXI - Estación: Summer\n",
            "  ➤ Modelo: EEMETRIC - Estación: Summer\n",
            "  ➤ Modelo: ENSEMBLE - Estación: Fall\n",
            "  ➤ Modelo: DISALEXI - Estación: Fall\n",
            "  ➤ Modelo: EEMETRIC - Estación: Fall\n",
            "🔄 Año 2020...\n",
            "  ➤ Modelo: ENSEMBLE - Estación: Winter\n",
            "  ➤ Modelo: DISALEXI - Estación: Winter\n",
            "  ➤ Modelo: EEMETRIC - Estación: Winter\n",
            "  ➤ Modelo: ENSEMBLE - Estación: Spring\n",
            "  ➤ Modelo: DISALEXI - Estación: Spring\n",
            "  ➤ Modelo: EEMETRIC - Estación: Spring\n",
            "  ➤ Modelo: ENSEMBLE - Estación: Summer\n",
            "  ➤ Modelo: DISALEXI - Estación: Summer\n",
            "  ➤ Modelo: EEMETRIC - Estación: Summer\n",
            "  ➤ Modelo: ENSEMBLE - Estación: Fall\n",
            "  ➤ Modelo: DISALEXI - Estación: Fall\n",
            "  ➤ Modelo: EEMETRIC - Estación: Fall\n",
            "🔄 Año 2021...\n",
            "  ➤ Modelo: ENSEMBLE - Estación: Winter\n",
            "  ➤ Modelo: DISALEXI - Estación: Winter\n",
            "  ➤ Modelo: EEMETRIC - Estación: Winter\n",
            "  ➤ Modelo: ENSEMBLE - Estación: Spring\n",
            "  ➤ Modelo: DISALEXI - Estación: Spring\n",
            "  ➤ Modelo: EEMETRIC - Estación: Spring\n",
            "  ➤ Modelo: ENSEMBLE - Estación: Summer\n",
            "  ➤ Modelo: DISALEXI - Estación: Summer\n",
            "  ➤ Modelo: EEMETRIC - Estación: Summer\n",
            "  ➤ Modelo: ENSEMBLE - Estación: Fall\n",
            "  ➤ Modelo: DISALEXI - Estación: Fall\n",
            "  ➤ Modelo: EEMETRIC - Estación: Fall\n",
            "🔄 Año 2022...\n",
            "  ➤ Modelo: ENSEMBLE - Estación: Winter\n",
            "  ➤ Modelo: DISALEXI - Estación: Winter\n",
            "  ➤ Modelo: EEMETRIC - Estación: Winter\n",
            "  ➤ Modelo: ENSEMBLE - Estación: Spring\n",
            "  ➤ Modelo: DISALEXI - Estación: Spring\n",
            "  ➤ Modelo: EEMETRIC - Estación: Spring\n",
            "  ➤ Modelo: ENSEMBLE - Estación: Summer\n",
            "  ➤ Modelo: DISALEXI - Estación: Summer\n",
            "  ➤ Modelo: EEMETRIC - Estación: Summer\n",
            "  ➤ Modelo: ENSEMBLE - Estación: Fall\n",
            "  ➤ Modelo: DISALEXI - Estación: Fall\n",
            "  ➤ Modelo: EEMETRIC - Estación: Fall\n",
            "🔄 Año 2023...\n",
            "  ➤ Modelo: ENSEMBLE - Estación: Winter\n",
            "  ➤ Modelo: DISALEXI - Estación: Winter\n",
            "  ➤ Modelo: EEMETRIC - Estación: Winter\n",
            "  ➤ Modelo: ENSEMBLE - Estación: Spring\n",
            "  ➤ Modelo: DISALEXI - Estación: Spring\n",
            "  ➤ Modelo: EEMETRIC - Estación: Spring\n",
            "  ➤ Modelo: ENSEMBLE - Estación: Summer\n",
            "  ➤ Modelo: DISALEXI - Estación: Summer\n",
            "  ➤ Modelo: EEMETRIC - Estación: Summer\n",
            "  ➤ Modelo: ENSEMBLE - Estación: Fall\n",
            "  ➤ Modelo: DISALEXI - Estación: Fall\n",
            "  ➤ Modelo: EEMETRIC - Estación: Fall\n"
          ]
        }
      ]
    },
    {
      "cell_type": "code",
      "source": [
        "# --- 6. EXPORTAR A DRIVE ---\n",
        "export_desc = 'ET_daily_seasonal_from_alfalfa_Ensemble_DisAlexi_eeMETRIC_2016_2023'\n",
        "task = ee.batch.Export.table.toDrive(\n",
        "    collection=all_results,\n",
        "    description=export_desc,\n",
        "    folder='Colab_ET',\n",
        "    fileFormat='CSV'\n",
        ")\n",
        "task.start()\n",
        "\n",
        "while task.active():\n",
        "    print(\"Esperando exportación...\")\n",
        "    time.sleep(10)\n",
        "\n",
        "print(\"✅ Exportación completada:\", task.status())"
      ],
      "metadata": {
        "colab": {
          "base_uri": "https://localhost:8080/"
        },
        "id": "UhJDtuZyG745",
        "outputId": "46549ba4-c7fb-4b74-e91a-e5cefc81e55e"
      },
      "execution_count": 5,
      "outputs": [
        {
          "output_type": "stream",
          "name": "stdout",
          "text": [
            "Esperando exportación...\n",
            "Esperando exportación...\n",
            "Esperando exportación...\n",
            "Esperando exportación...\n",
            "Esperando exportación...\n",
            "Esperando exportación...\n",
            "Esperando exportación...\n",
            "Esperando exportación...\n",
            "Esperando exportación...\n",
            "Esperando exportación...\n",
            "Esperando exportación...\n",
            "Esperando exportación...\n",
            "Esperando exportación...\n",
            "Esperando exportación...\n",
            "Esperando exportación...\n",
            "Esperando exportación...\n",
            "Esperando exportación...\n",
            "✅ Exportación completada: {'state': 'COMPLETED', 'description': 'ET_daily_seasonal_from_alfalfa_Ensemble_DisAlexi_eeMETRIC_2016_2023', 'priority': 100, 'creation_timestamp_ms': 1755720053016, 'update_timestamp_ms': 1755720218137, 'start_timestamp_ms': 1755720062566, 'task_type': 'EXPORT_FEATURES', 'destination_uris': ['https://drive.google.com/#folders/1gwo7ys-IUcg4JYI4ytcC5_hgJRJdymR3'], 'attempt': 1, 'batch_eecu_usage_seconds': 2388.396240234375, 'id': 'TNNM4NWQ2Y53OECY54Y367PO', 'name': 'projects/ee-mbribiescaucla/operations/TNNM4NWQ2Y53OECY54Y367PO'}\n"
          ]
        }
      ]
    },
    {
      "cell_type": "code",
      "source": [
        "# --- 7. CARGAR Y PIVOTEAR EN PYTHON ---\n",
        "ruta_csv = '/content/drive/MyDrive/Colab_ET/ET_daily_seasonal_from_alfalfa_Ensemble_DisAlexi_eeMETRIC_2016_2023.csv'\n",
        "df = pd.read_csv(ruta_csv)\n",
        "\n",
        "# Filtrar solo modelo ENSEMBLE\n",
        "df = df[df['model'] == 'ENSEMBLE'].copy()\n",
        "\n",
        "# Año como texto con últimos 2 dígitos\n",
        "df['year'] = df['year'].astype(str).str[-2:]\n",
        "\n",
        "# Crear columna combinada\n",
        "df['Season_Year'] = df['season'] + '_' + df['year']\n",
        "\n",
        "# Pivotear DataFrame\n",
        "pivot_df = df.pivot_table(\n",
        "    index=['CSBID', 'AreaRec', 'pattern', 'CDL2016', 'CDL2017', 'CDL2018', 'CDL2019',\n",
        "           'CDL2020', 'CDL2021', 'CDL2022', 'CDL2023'],\n",
        "    columns='Season_Year',\n",
        "    values='et_mm_day'\n",
        ")\n",
        "\n",
        "# Orden de columnas\n",
        "orden_estaciones = ['Fall', 'Winter', 'Spring', 'Summer']\n",
        "orden_columnas = sorted(pivot_df.columns, key=lambda x: (orden_estaciones.index(x.split('_')[0]), int(x.split('_')[1])))\n",
        "pivot_df = pivot_df[orden_columnas]\n",
        "\n",
        "# Renombrar columnas\n",
        "pivot_df.columns = ['ET Ensemble ' + c for c in pivot_df.columns]\n",
        "\n",
        "# Exportar a Excel\n",
        "pivot_df.reset_index(inplace=True)\n",
        "salida = '/content/drive/MyDrive/Colab_ET/ET_ENS_Pivoted_from_alfalfa_2016_2023.xlsx'\n",
        "pivot_df.to_excel(salida, index=False)\n",
        "\n",
        "print(\"✅ Archivo exportado:\", salida)"
      ],
      "metadata": {
        "colab": {
          "base_uri": "https://localhost:8080/"
        },
        "id": "sNhzOJhLG-Xw",
        "outputId": "32d903ee-5a8c-4015-84bd-1314f0bd9341"
      },
      "execution_count": 6,
      "outputs": [
        {
          "output_type": "stream",
          "name": "stdout",
          "text": [
            "✅ Archivo exportado: /content/drive/MyDrive/Colab_ET/ET_ENS_Pivoted_from_alfalfa_2016_2023.xlsx\n"
          ]
        }
      ]
    },
    {
      "cell_type": "code",
      "source": [
        "import pandas as pd\n",
        "import numpy as np\n",
        "from google.colab import drive\n",
        "drive.mount('/content/drive')\n",
        "\n",
        "# --- 1. CARGAR ARCHIVO ---\n",
        "ruta = '/content/drive/MyDrive/Colab_ET/ET_ENS_Pivoted_from_alfalfa_2016_2023.xlsx'\n",
        "df = pd.read_excel(ruta)\n",
        "\n",
        "# --- 2. FILTRAR POLÍGONOS CON CDL != 37 y 61 EN TODOS LOS AÑOS ---\n",
        "cdl_cols = [f'CDL{y}' for y in range(2016, 2024)]\n",
        "df = df[~df[cdl_cols].isin([37, 61]).any(axis=1)].copy()\n",
        "\n",
        "# --- 3. IDENTIFICAR COLUMNAS POR ESTACIÓN ---\n",
        "estaciones = ['Fall', 'Winter', 'Spring', 'Summer']\n",
        "cols_por_estacion = {s: [c for c in df.columns if f'ET Ensemble {s}_' in c] for s in estaciones}\n",
        "\n",
        "# --- 4. CALCULAR PROMEDIO ANUAL POR POLÍGONO ---\n",
        "df['Annual'] = df[[col for cols in cols_por_estacion.values() for col in cols]].mean(axis=1)\n",
        "\n",
        "# --- 5. CALCULAR PROMEDIO POR ESTACIÓN (8 AÑOS) ---\n",
        "for est, cols in cols_por_estacion.items():\n",
        "    df[est] = df[cols].mean(axis=1)\n",
        "\n",
        "# --- 6. AGRUPAR POR PATRÓN Y CALCULAR ESTADÍSTICAS ---\n",
        "estadisticas = []\n",
        "\n",
        "for pattern, group in df.groupby('pattern'):\n",
        "    resumen = {'Pattern': pattern}\n",
        "    for est in ['Annual', 'Fall', 'Winter', 'Spring', 'Summer']:\n",
        "        valores = group[est]\n",
        "        resumen[f'{est}_Max'] = valores.max()\n",
        "        resumen[f'{est}_Min'] = valores.min()\n",
        "        resumen[f'{est}_Avg'] = valores.mean()\n",
        "        resumen[f'{est}_Std'] = valores.std()\n",
        "    estadisticas.append(resumen)\n",
        "\n",
        "# --- 7. CONVERTIR A DATAFRAME Y FORMATEAR TABLA FINAL ---\n",
        "tabla = pd.DataFrame(estadisticas)\n",
        "tabla.set_index('Pattern', inplace=True)\n",
        "tabla = tabla.sort_index()\n",
        "\n",
        "# --- 8. FORMATO FINAL (COMO IMAGEN) ---\n",
        "final = []\n",
        "\n",
        "for pattern in tabla.index:\n",
        "    for stat in ['Max', 'Min', 'Avg', 'Std']:\n",
        "        fila = {'Pattern': pattern, 'Stat': {\n",
        "            'Max': 'Maximum', 'Min': 'Minimum',\n",
        "            'Avg': 'Average', 'Std': 'Std. Dev'\n",
        "        }[stat]}\n",
        "        for est in ['Annual', 'Fall', 'Winter', 'Spring', 'Summer']:\n",
        "            fila[est] = tabla.loc[pattern, f'{est}_{stat}']\n",
        "        final.append(fila)\n",
        "\n",
        "tabla_final = pd.DataFrame(final)\n",
        "\n",
        "# --- 9. EXPORTAR A EXCEL ---\n",
        "salida = '/content/drive/MyDrive/Colab_ET/Resumen_ET_Ensemble_filtrado.xlsx'\n",
        "tabla_final.to_excel(salida, index=False)\n",
        "print(\"✅ Tabla exportada:\", salida)\n"
      ],
      "metadata": {
        "colab": {
          "base_uri": "https://localhost:8080/"
        },
        "id": "3DHW186MITcW",
        "outputId": "03d0da03-5756-4638-bc48-c24736642b63"
      },
      "execution_count": 7,
      "outputs": [
        {
          "output_type": "stream",
          "name": "stdout",
          "text": [
            "Drive already mounted at /content/drive; to attempt to forcibly remount, call drive.mount(\"/content/drive\", force_remount=True).\n",
            "✅ Tabla exportada: /content/drive/MyDrive/Colab_ET/Resumen_ET_Ensemble_filtrado.xlsx\n"
          ]
        }
      ]
    }
  ]
}